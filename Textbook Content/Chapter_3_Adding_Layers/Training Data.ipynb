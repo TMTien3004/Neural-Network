{
 "cells": [
  {
   "cell_type": "code",
   "execution_count": null,
   "metadata": {},
   "outputs": [],
   "source": [
    "# Training Data\n",
    "#-------------------------------------------------------------------------------------------------------------------------\n",
    "# Use Jupyter Notebook to run the graph\n",
    "import numpy as np\n",
    "import matplotlib.pyplot as plt\n",
    "from nnfs.datasets import spiral_data # Install nnfs package by: \"pip install nfs\"\n",
    "import nnfs\n",
    "\n",
    "\"\"\"\n",
    "The nnfs.init() does three things: it sets the random seed to 0 (by the default), creates a float32 dtype default, and \n",
    "overrides the original dot product from NumPy. All of these are meant to ensure repeatable results for following along.\n",
    "\"\"\"\n",
    "nnfs.init()\n",
    "\n",
    "X, y = spiral_data(samples = 100, classes = 3)\n",
    "plt.scatter(X[:,0], X[:,1], c = y, cmap='brg')\n",
    "plt.show()"
   ]
  }
 ],
 "metadata": {
  "kernelspec": {
   "display_name": "Python 3.9.1 64-bit",
   "language": "python",
   "name": "python3"
  },
  "language_info": {
   "name": "python",
   "version": "3.9.1"
  },
  "orig_nbformat": 4,
  "vscode": {
   "interpreter": {
    "hash": "aee8b7b246df8f9039afb4144a1f6fd8d2ca17a180786b69acc140d282b71a49"
   }
  }
 },
 "nbformat": 4,
 "nbformat_minor": 2
}
